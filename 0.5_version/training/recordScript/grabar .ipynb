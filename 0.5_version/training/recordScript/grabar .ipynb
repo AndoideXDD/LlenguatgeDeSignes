{
 "cells": [
  {
   "cell_type": "code",
   "execution_count": 6,
   "id": "c8d7fcaa",
   "metadata": {},
   "outputs": [
    {
     "name": "stdout",
     "output_type": "stream",
     "text": [
      "Collecting images for i\n"
     ]
    }
   ],
   "source": [
    "import cv2\n",
    "import os\n",
    "import time \n",
    "import uuid\n",
    "import sys \n",
    " \n",
    "\n",
    " \n",
    "\n",
    "\n",
    "IMAGES_PATH  =  \"\\ExperimentoA_IA\\Imagenes\"\n",
    "\n",
    "# Nombre de las letras a traducir\n",
    "\n",
    "labels = [ \"i\"]\n",
    "number_imgs = 35\n",
    "\n",
    "daleAelVideo = True\n",
    "os.chdir(\"/Users/andre/ExperimentoA_IA/Imagenes\")\n",
    "\n",
    "\n",
    "\n",
    "for x in labels:\n",
    "    try:\n",
    "        os.makedirs(x)\n",
    "\n",
    "    except:\n",
    "        pass\n",
    "for label in labels:\n",
    " \n",
    "    cap = cv2.VideoCapture(0)\n",
    "    pathTrue = \"/Users/andre/ExperimentoA_IA/Imagenes\"\n",
    "\n",
    "    os.chdir(pathTrue+\"/\"+label)\n",
    "\n",
    "\n",
    "    print(\"Collecting images for {}\".format(label))\n",
    "    time.sleep(2)\n",
    "    for imgnum in range(number_imgs):\n",
    "        cap = cv2.VideoCapture(0) \n",
    "        time.sleep(2)\n",
    "        ret, frame = cap.read()\n",
    "\n",
    "        imagename = label+\".\"+\"{}.jpg\".format(str(uuid.uuid1()))\n",
    "\n",
    "        cv2.imwrite(imagename, frame)\n",
    "        cv2.imshow(\"frame\",frame)\n",
    "        time.sleep(3)\n",
    "\n",
    "        if cv2.waitKey(1) and 0xFF == ord(\"q\"):\n",
    "\n",
    "            break \n",
    "\n",
    "    cap.release()\n",
    "\n",
    "cv2.destroyAllWindows()\n"
   ]
  },
  {
   "cell_type": "code",
   "execution_count": 4,
   "id": "56f592cf",
   "metadata": {},
   "outputs": [],
   "source": [
    "cap.release()\n",
    "cv2.destroyAllWindows()"
   ]
  },
  {
   "cell_type": "code",
   "execution_count": null,
   "id": "0ad18dc6",
   "metadata": {},
   "outputs": [],
   "source": []
  }
 ],
 "metadata": {
  "kernelspec": {
   "display_name": "Python 3 (ipykernel)",
   "language": "python",
   "name": "python3"
  },
  "language_info": {
   "codemirror_mode": {
    "name": "ipython",
    "version": 3
   },
   "file_extension": ".py",
   "mimetype": "text/x-python",
   "name": "python",
   "nbconvert_exporter": "python",
   "pygments_lexer": "ipython3",
   "version": "3.9.13"
  }
 },
 "nbformat": 4,
 "nbformat_minor": 5
}
